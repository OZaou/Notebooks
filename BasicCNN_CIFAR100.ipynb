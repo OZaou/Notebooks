{
  "cells": [
    {
      "cell_type": "code",
      "execution_count": null,
      "metadata": {
        "id": "8ADH2xpyq38u"
      },
      "outputs": [],
      "source": [
        "import numpy as np\n",
        "from PIL import Image\n",
        "import torch\n",
        "import torch.nn as nn\n",
        "import torch.nn.functional as F\n",
        "import torch.optim as optim\n",
        "from torch.utils.data import Dataset, DataLoader\n",
        "from torchvision import transforms\n",
        "import torchvision\n",
        "import matplotlib.pyplot as plt\n"
      ]
    },
    {
      "cell_type": "code",
      "execution_count": null,
      "metadata": {
        "id": "OvTtir_p4aBm"
      },
      "outputs": [],
      "source": [
        "transforms=transforms.Compose([\n",
        "    transforms.ToTensor(),\n",
        "    transforms.Normalize((0.5,0.5,0.5),(0.5,0.5,0.5))\n",
        "])"
      ]
    },
    {
      "cell_type": "code",
      "execution_count": null,
      "metadata": {
        "colab": {
          "background_save": true,
          "base_uri": "https://localhost:8080/"
        },
        "id": "GHWsLd_l40_H",
        "outputId": "67519227-b630-4f9a-a6e1-cea4d989287d"
      },
      "outputs": [],
      "source": [
        "train_data=torchvision.datasets.CIFAR100(root='./data',train=True,download=True,transform=transforms)\n",
        "test_data=torchvision.datasets.CIFAR100(root='./data',train=False,download=True,transform=transforms)\n",
        "train_loader=DataLoader(train_data,batch_size=32,shuffle=True, num_workers=2)\n",
        "test_loader=DataLoader(test_data,batch_size=32,shuffle=True, num_workers=2)"
      ]
    },
    {
      "cell_type": "code",
      "execution_count": null,
      "metadata": {
        "id": "7uF-Ib6T421l"
      },
      "outputs": [],
      "source": [
        "train_loader=DataLoader(train_data,batch_size=32,shuffle=True, num_workers=2)\n",
        "test_loader=DataLoader(test_data,batch_size=32,shuffle=True, num_workers=2)"
      ]
    },
    {
      "cell_type": "code",
      "execution_count": null,
      "metadata": {
        "colab": {
          "background_save": true,
          "base_uri": "https://localhost:8080/"
        },
        "id": "smfK5HbW5DQR",
        "outputId": "cdf3608f-a407-497f-bb47-5a9abf44834d"
      },
      "outputs": [],
      "source": [
        "image,label=train_data[0]\n",
        "print(image.shape)\n",
        "print(label)"
      ]
    },
    {
      "cell_type": "code",
      "execution_count": null,
      "metadata": {
        "id": "urbnHpRM7JJR"
      },
      "outputs": [],
      "source": [
        "class_names = [\n",
        "    'apple', 'aquarium_fish', 'baby', 'bear', 'beaver', 'bed', 'bee', 'beetle', 'bicycle', 'bottle', 'bowl',\n",
        "    'boy', 'bridge', 'bus', 'butterfly', 'camel', 'can', 'castle', 'caterpillar', 'cattle', 'chair', 'chimpanzee',\n",
        "    'clock', 'cloud', 'cockroach', 'couch', 'crab', 'crocodile', 'cup', 'dinosaur', 'dolphin', 'elephant', 'flatfish',\n",
        "    'forest', 'fox', 'girl', 'hamster', 'house', 'kangaroo', 'keyboard', 'lamp', 'lawn_mower', 'leopard', 'lion',\n",
        "    'lizard', 'lobster', 'man', 'maple_tree', 'motorcycle', 'mountain', 'mouse', 'mushroom', 'oak_tree', 'orange',\n",
        "    'orchid', 'otter', 'palm_tree', 'pear', 'pickup_truck', 'pine_tree', 'plain', 'plate', 'poppy', 'porcupine',\n",
        "    'possum', 'rabbit', 'raccoon', 'ray', 'road', 'rocket', 'rose', 'sea', 'seal', 'shark', 'shrew', 'skunk',\n",
        "    'skyscraper', 'snail', 'snake', 'spider', 'squirrel', 'streetcar', 'sunflower', 'sweet_pepper', 'table',\n",
        "    'tank', 'telephone', 'television', 'tiger', 'tractor', 'train', 'trout', 'tulip', 'turtle', 'wardrobe',\n",
        "    'whale', 'willow_tree', 'wolf', 'woman', 'worm'\n",
        "]"
      ]
    },
    {
      "cell_type": "code",
      "execution_count": null,
      "metadata": {
        "id": "jTm0L2v47KQt"
      },
      "outputs": [],
      "source": [
        "class Net(nn.Module):\n",
        "  def __init__(self):\n",
        "    super(Net,self).__init__()\n",
        "    self.conv1=nn.Conv2d(3,12,5)\n",
        "    self.pool=nn.MaxPool2d(2,2)\n",
        "    self.conv2=nn.Conv2d(12,16,5)\n",
        "    self.fc1=nn.Linear(16*5*5,120)\n",
        "    self.fc2=nn.Linear(120,84)\n",
        "    self.fc3=nn.Linear(84,100)\n",
        "  def forward(self,x):\n",
        "    x=self.pool(F.relu(self.conv1(x)))\n",
        "    x=self.pool(F.relu(self.conv2(x)))\n",
        "    x=torch.flatten(x,1)\n",
        "    x=F.relu(self.fc1(x))\n",
        "    x=F.relu(self.fc2(x))\n",
        "    x=self.fc3(x)\n",
        "    return x"
      ]
    },
    {
      "cell_type": "code",
      "execution_count": null,
      "metadata": {
        "colab": {
          "base_uri": "https://localhost:8080/",
          "height": 176
        },
        "id": "QbolnI7q9FVe",
        "outputId": "6eb84ec6-380c-4232-e890-18fe64791e26"
      },
      "outputs": [],
      "source": [
        "\n"
      ]
    },
    {
      "cell_type": "code",
      "execution_count": null,
      "metadata": {
        "colab": {
          "base_uri": "https://localhost:8080/",
          "height": 1000
        },
        "collapsed": true,
        "id": "osCNnoTl9Fdw",
        "outputId": "56fc9891-a1ba-4867-9c0e-441817e9bafe"
      },
      "outputs": [],
      "source": [
        "\n",
        "class Net(nn.Module):\n",
        "  def __init__(self):\n",
        "    super(Net,self).__init__()\n",
        "    self.conv1=nn.Conv2d(3,12,5)\n",
        "    self.pool=nn.MaxPool2d(2,2)\n",
        "    self.conv2=nn.Conv2d(12,16,5)\n",
        "    self.fc1=nn.Linear(16*5*5,120)\n",
        "    self.fc2=nn.Linear(120,84)\n",
        "    self.fc3=nn.Linear(84,100)\n",
        "  def forward(self,x):\n",
        "    x=self.pool(F.relu(self.conv1(x)))\n",
        "    x=self.pool(F.relu(self.conv2(x)))\n",
        "    x=torch.flatten(x,1)\n",
        "    x=F.relu(self.fc1(x))\n",
        "    x=F.relu(self.fc2(x))\n",
        "    x=self.fc3(x)\n",
        "    return x\n",
        "best_loss = float('inf')\n",
        "patience = 5\n",
        "counter = 0\n",
        "best_model_params = None\n",
        "\n",
        "# List to store losses for plotting\n",
        "losses = []\n",
        "\n",
        "for epoch in range(300):\n",
        "    running_loss = 0.0\n",
        "    for i, data in enumerate(train_loader):\n",
        "        inputs, labels = data\n",
        "        optimizer.zero_grad()\n",
        "        outputs = net(inputs)\n",
        "        loss = loss_function(outputs, labels)\n",
        "        loss.backward()\n",
        "        optimizer.step()\n",
        "        running_loss += loss.item()\n",
        "\n",
        "    avg_loss = running_loss / len(train_loader)\n",
        "    losses.append(avg_loss)\n",
        "\n",
        "    print(f'[{epoch+1},{i+1:5d}] loss: {avg_loss:.3f}')\n",
        "\n",
        "    if avg_loss < best_loss:\n",
        "        best_loss = avg_loss\n",
        "        counter = 0\n",
        "        best_model_params = net.state_dict().copy()\n",
        "    else:\n",
        "        counter += 1\n",
        "        if counter >= patience:\n",
        "            print(f'Early stopping triggered at epoch {epoch+1}')\n",
        "            net.load_state_dict(best_model_params)\n",
        "            break\n",
        "\n",
        "plt.figure(figsize=(10, 5))\n",
        "plt.plot(range(1, len(losses) + 1), losses)\n",
        "plt.title('Training Loss over Epochs')\n",
        "plt.xlabel('Epoch')\n",
        "plt.ylabel('Loss')\n",
        "plt.show()"
      ]
    },
    {
      "cell_type": "code",
      "execution_count": null,
      "metadata": {
        "colab": {
          "base_uri": "https://localhost:8080/"
        },
        "collapsed": true,
        "id": "tyNReVNJ91M0",
        "outputId": "4a829334-b00a-499b-f22a-3621defa6aa5"
      },
      "outputs": [],
      "source": [
        "best_model_params"
      ]
    },
    {
      "cell_type": "code",
      "execution_count": null,
      "metadata": {
        "id": "HMdm8xd5Zfhc"
      },
      "outputs": [],
      "source": [
        "torch.save(net.state_dict(),'cnnet_224epoch.pth')"
      ]
    },
    {
      "cell_type": "code",
      "execution_count": null,
      "metadata": {
        "colab": {
          "base_uri": "https://localhost:8080/"
        },
        "id": "8zul8xTbb1JR",
        "outputId": "ee24d030-6eff-4863-9108-3375bd48b5c4"
      },
      "outputs": [],
      "source": [
        "correct=0\n",
        "total=0\n",
        "net.eval()\n",
        "with torch.no_grad():\n",
        "  for data in test_loader:\n",
        "    images,labels=data\n",
        "    outputs=net(images)\n",
        "    _,predicted=torch.max(outputs.data,1)\n",
        "    total+=labels.size(0)\n",
        "    correct+=(predicted==labels).sum().item()\n",
        "\n",
        "acc=100*correct/total\n",
        "print(f'Accuracy : {acc}%')"
      ]
    },
    {
      "cell_type": "code",
      "execution_count": null,
      "metadata": {
        "id": "uuce7OrNgMlI"
      },
      "outputs": [],
      "source": [
        "class tinyNet(nn.Module):\n",
        "  def __init__(self):\n",
        "    super(tinyNet,self).__init__()\n",
        "    self.conv1=nn.Conv2d(3,12,5)\n",
        "    self.pool=nn.MaxPool2d(2,2)\n",
        "    self.conv2=nn.Conv2d(12,16,5)\n",
        "    self.fc1=nn.Linear(16*5*5,1024)\n",
        "    self.fc2=nn.Linear(1024,512)\n",
        "    self.fc3=nn.Linear(512,256)\n",
        "    self.fc4=nn.Linear(256,100)\n",
        "  def forward(self,x):\n",
        "    x=self.pool(F.relu(self.conv1(x)))\n",
        "    x=self.pool(F.relu(self.conv2(x)))\n",
        "    x=torch.flatten(x,1)\n",
        "    x=F.relu(self.fc1(x))\n",
        "    x=F.relu(self.fc2(x))\n",
        "    x=self.fc3(x)\n",
        "    return x"
      ]
    },
    {
      "cell_type": "code",
      "execution_count": null,
      "metadata": {
        "id": "Ydw9b3mK3-SZ"
      },
      "outputs": [],
      "source": [
        "net2=tinyNet()\n",
        "loss_function=nn.CrossEntropyLoss()\n",
        "optimizer=optim.SGD(net2.parameters(),lr=0.001,momentum=0.9)"
      ]
    },
    {
      "cell_type": "code",
      "execution_count": null,
      "metadata": {
        "colab": {
          "base_uri": "https://localhost:8080/",
          "height": 1000
        },
        "id": "qtZkB9J-3OsH",
        "outputId": "963e8ca7-9f28-41c8-e817-b408b65f2f03"
      },
      "outputs": [],
      "source": [
        "\n",
        "\n",
        "best_loss = float('inf')\n",
        "patience = 3\n",
        "counter = 0\n",
        "best_model_params = None\n",
        "\n",
        "losses = []\n",
        "\n",
        "for epoch in range(300):\n",
        "    running_loss = 0.0\n",
        "    for i, data in enumerate(train_loader):\n",
        "        inputs, labels = data\n",
        "        optimizer.zero_grad()\n",
        "        outputs = net2(inputs)\n",
        "        loss = loss_function(outputs, labels)\n",
        "        loss.backward()\n",
        "        optimizer.step()\n",
        "        running_loss += loss.item()\n",
        "\n",
        "    avg_loss = running_loss / len(train_loader)\n",
        "    losses.append(avg_loss)\n",
        "\n",
        "    print(f'[{epoch+1},{i+1:5d}] loss: {avg_loss:.3f}')\n",
        "\n",
        "    if avg_loss < best_loss:\n",
        "        best_loss = avg_loss\n",
        "        counter = 0\n",
        "        best_model_params = net2.state_dict().copy()\n",
        "    else:\n",
        "        counter += 1\n",
        "        if counter >= patience:\n",
        "            print(f'Early stopping triggered at epoch {epoch+1}')\n",
        "            net2.load_state_dict(best_model_params)\n",
        "            break\n",
        "\n",
        "plt.figure(figsize=(10, 5))\n",
        "plt.plot(range(1, len(losses) + 1), losses)\n",
        "plt.title('Training Loss over Epochs')\n",
        "plt.xlabel('Epoch')\n",
        "plt.ylabel('Loss')\n",
        "plt.show()"
      ]
    },
    {
      "cell_type": "code",
      "execution_count": null,
      "metadata": {
        "id": "g1goXFrJ3uYf"
      },
      "outputs": [],
      "source": [
        "torch.save(net2.state_dict(),'tinycnnet_62epoch.pth')"
      ]
    },
    {
      "cell_type": "code",
      "execution_count": null,
      "metadata": {
        "colab": {
          "base_uri": "https://localhost:8080/"
        },
        "id": "sw_xtbiqFucc",
        "outputId": "de754607-7eaa-437e-f6cc-4bfdc16799ad"
      },
      "outputs": [],
      "source": [
        "correct=0\n",
        "total=0\n",
        "net2.eval()\n",
        "with torch.no_grad():\n",
        "  for data in test_loader:\n",
        "    images,labels=data\n",
        "    outputs=net2(images)\n",
        "    _,predicted=torch.max(outputs.data,1)\n",
        "    total+=labels.size(0)\n",
        "    correct+=(predicted==labels).sum().item()\n",
        "\n",
        "acc=100*correct/total\n",
        "print(f'Accuracy : {acc}%')"
      ]
    },
    {
      "cell_type": "code",
      "execution_count": null,
      "metadata": {
        "id": "CA5KS8wqF2V8"
      },
      "outputs": [],
      "source": [
        "import torch\n",
        "import torch.nn as nn\n",
        "from torch.nn import (Conv2d, Linear, MaxPool2d, Module, ReLU, Sequential, Softmax)\n",
        "from typing import Callable, Optional\n",
        "\n",
        "ActivT = Optional[Callable[[], Module]]\n",
        "\n",
        "def make_conv_pool_activ(\n",
        "    in_channels: int,\n",
        "    out_channels: int,\n",
        "    kernel_size: int,\n",
        "    activation: ActivT = None,\n",
        "    pool_size: Optional[int] = None,\n",
        "    pool_stride: Optional[int] = None,\n",
        "    **conv_kwargs\n",
        "):\n",
        "    layers = [Conv2d(in_channels, out_channels, kernel_size, **conv_kwargs)]\n",
        "    if activation:\n",
        "        layers.append(activation())\n",
        "    if pool_size is not None:\n",
        "        layers.append(MaxPool2d(pool_size, stride=pool_stride))\n",
        "    return layers\n",
        "\n",
        "class Classifier(Module):\n",
        "    def __init__(\n",
        "        self, convs: Sequential, linears: Sequential, use_softmax: bool = True\n",
        "    ):\n",
        "        super().__init__()\n",
        "        self.convs = convs\n",
        "        self.linears = linears\n",
        "        self.softmax = Softmax(1) if use_softmax else Sequential()\n",
        "\n",
        "    def forward(self, inputs: torch.Tensor) -> torch.Tensor:\n",
        "        outputs = self.convs(inputs)\n",
        "        return self.softmax(self.linears(outputs.view(outputs.shape[0], -1)))\n",
        "\n",
        "class BasicBlock(Module):\n",
        "    expansion = 1\n",
        "\n",
        "    def __init__(self, in_planes, planes, stride=1):\n",
        "        super(BasicBlock, self).__init__()\n",
        "        self.conv1 = Conv2d(in_planes, planes, kernel_size=3, stride=stride, padding=1, bias=False)\n",
        "        self.bn1 = nn.BatchNorm2d(planes)\n",
        "        self.conv2 = Conv2d(planes, planes, kernel_size=3, stride=1, padding=1, bias=False)\n",
        "        self.bn2 = nn.BatchNorm2d(planes)\n",
        "\n",
        "        self.shortcut = Sequential()\n",
        "        if stride != 1 or in_planes != self.expansion * planes:\n",
        "            self.shortcut = Sequential(\n",
        "                Conv2d(in_planes, self.expansion * planes, kernel_size=1, stride=stride, bias=False),\n",
        "                nn.BatchNorm2d(self.expansion * planes)\n",
        "            )\n",
        "\n",
        "    def forward(self, x):\n",
        "        out = ReLU()(self.bn1(self.conv1(x)))\n",
        "        out = self.bn2(self.conv2(out))\n",
        "        out += self.shortcut(x)\n",
        "        out = ReLU()(out)\n",
        "        return out\n",
        "\n",
        "class ResNet18(Classifier):\n",
        "    def __init__(self, num_classes=100): \n",
        "        self.in_planes = 64\n",
        "\n",
        "        def _make_layer(block, planes, num_blocks, stride):\n",
        "            strides = [stride] + [1]*(num_blocks-1)\n",
        "            layers = []\n",
        "            for stride in strides:\n",
        "                layers.append(block(self.in_planes, planes, stride))\n",
        "                self.in_planes = planes * block.expansion\n",
        "            return Sequential(*layers)\n",
        "\n",
        "        convs = Sequential(\n",
        "            *make_conv_pool_activ(3, 64, kernel_size=7, stride=2, padding=3),\n",
        "            nn.BatchNorm2d(64),\n",
        "            ReLU(),\n",
        "            MaxPool2d(kernel_size=3, stride=2, padding=1),\n",
        "            _make_layer(BasicBlock, 64, 2, 1),\n",
        "            _make_layer(BasicBlock, 128, 2, 2),\n",
        "            _make_layer(BasicBlock, 256, 2, 2),\n",
        "            _make_layer(BasicBlock, 512, 2, 2),\n",
        "            nn.AdaptiveAvgPool2d((1, 1))\n",
        "        )\n",
        "        linears = Sequential(Linear(512 * BasicBlock.expansion, num_classes))\n",
        "        super().__init__(convs, linears)\n",
        "\n",
        "def model(file=None):\n",
        "    net = ResNet18().float()\n",
        "    if file is not None:\n",
        "        net.load_state_dict(torch.load(file))\n",
        "    return net"
      ]
    },
    {
      "cell_type": "code",
      "execution_count": null,
      "metadata": {
        "colab": {
          "base_uri": "https://localhost:8080/",
          "height": 193
        },
        "id": "n8aALLx9HGWd",
        "outputId": "99d134ee-3963-4f67-f7ff-73736a6b127a"
      },
      "outputs": [],
      "source": [
        "train_data=torchvision.datasets.CIFAR100(root='./data',train=True,download=True,transform=transforms)\n",
        "test_data=torchvision.datasets.CIFAR100(root='./data',train=False,download=True,transform=transforms)\n",
        "train_loader=DataLoader(train_data,batch_size=32,shuffle=True, num_workers=2)\n",
        "test_loader=DataLoader(test_data,batch_size=32,shuffle=True, num_workers=2)"
      ]
    },
    {
      "cell_type": "code",
      "execution_count": null,
      "metadata": {
        "colab": {
          "base_uri": "https://localhost:8080/",
          "height": 176
        },
        "id": "JJB752yXGwNz",
        "outputId": "33a8f1d2-41af-4bb3-af32-044318a9dde9"
      },
      "outputs": [],
      "source": [
        "resnet = ResNet18().float()\n",
        "loss_function = nn.CrossEntropyLoss()\n",
        "optimizer = optim.SGD(resnet.parameters(), lr=0.001, momentum=0.9)"
      ]
    },
    {
      "cell_type": "code",
      "execution_count": null,
      "metadata": {
        "colab": {
          "background_save": true
        },
        "id": "eYJrDFkoG9XU",
        "outputId": "237aa12f-38c8-45f2-b5ce-759e1c3ecf0d"
      },
      "outputs": [],
      "source": []
    }
  ],
  "metadata": {
    "colab": {
      "provenance": []
    },
    "kernelspec": {
      "display_name": "Python 3",
      "name": "python3"
    },
    "language_info": {
      "name": "python"
    }
  },
  "nbformat": 4,
  "nbformat_minor": 0
}
